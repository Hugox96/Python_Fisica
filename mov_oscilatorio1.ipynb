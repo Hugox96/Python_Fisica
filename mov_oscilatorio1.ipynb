{
 "cells": [
  {
   "cell_type": "code",
   "execution_count": 4,
   "metadata": {},
   "outputs": [
    {
     "data": {
      "text/html": [
       "<div>\n",
       "<style scoped>\n",
       "    .dataframe tbody tr th:only-of-type {\n",
       "        vertical-align: middle;\n",
       "    }\n",
       "\n",
       "    .dataframe tbody tr th {\n",
       "        vertical-align: top;\n",
       "    }\n",
       "\n",
       "    .dataframe thead th {\n",
       "        text-align: right;\n",
       "    }\n",
       "</style>\n",
       "<table border=\"1\" class=\"dataframe\">\n",
       "  <thead>\n",
       "    <tr style=\"text-align: right;\">\n",
       "      <th></th>\n",
       "      <th>DeltaY</th>\n",
       "      <th>Massa</th>\n",
       "    </tr>\n",
       "  </thead>\n",
       "  <tbody>\n",
       "    <tr>\n",
       "      <th>0</th>\n",
       "      <td>0.45</td>\n",
       "      <td>5</td>\n",
       "    </tr>\n",
       "    <tr>\n",
       "      <th>1</th>\n",
       "      <td>0.91</td>\n",
       "      <td>10</td>\n",
       "    </tr>\n",
       "    <tr>\n",
       "      <th>2</th>\n",
       "      <td>1.41</td>\n",
       "      <td>15</td>\n",
       "    </tr>\n",
       "    <tr>\n",
       "      <th>3</th>\n",
       "      <td>1.87</td>\n",
       "      <td>20</td>\n",
       "    </tr>\n",
       "    <tr>\n",
       "      <th>4</th>\n",
       "      <td>2.36</td>\n",
       "      <td>25</td>\n",
       "    </tr>\n",
       "  </tbody>\n",
       "</table>\n",
       "</div>"
      ],
      "text/plain": [
       "   DeltaY  Massa\n",
       "0    0.45      5\n",
       "1    0.91     10\n",
       "2    1.41     15\n",
       "3    1.87     20\n",
       "4    2.36     25"
      ]
     },
     "execution_count": 4,
     "metadata": {},
     "output_type": "execute_result"
    }
   ],
   "source": [
    "# Criando relatórios com python\n",
    "import pandas as pd\n",
    "import numpy as np\n",
    "\n",
    "# importante colocar o sep=\";\" para a tabela ficar direitinho\n",
    "dados_mec = pd.read_csv(\"Mec.csv\", sep=\";\")\n",
    "dados_mec\n"
   ]
  },
  {
   "attachments": {},
   "cell_type": "markdown",
   "metadata": {},
   "source": [
    "**Criando a fórmula para calcular as contantes da mola K**"
   ]
  },
  {
   "cell_type": "code",
   "execution_count": 5,
   "metadata": {},
   "outputs": [
    {
     "data": {
      "text/html": [
       "<div>\n",
       "<style scoped>\n",
       "    .dataframe tbody tr th:only-of-type {\n",
       "        vertical-align: middle;\n",
       "    }\n",
       "\n",
       "    .dataframe tbody tr th {\n",
       "        vertical-align: top;\n",
       "    }\n",
       "\n",
       "    .dataframe thead th {\n",
       "        text-align: right;\n",
       "    }\n",
       "</style>\n",
       "<table border=\"1\" class=\"dataframe\">\n",
       "  <thead>\n",
       "    <tr style=\"text-align: right;\">\n",
       "      <th></th>\n",
       "      <th>DeltaY</th>\n",
       "      <th>Massa</th>\n",
       "      <th>Constante mola</th>\n",
       "    </tr>\n",
       "  </thead>\n",
       "  <tbody>\n",
       "    <tr>\n",
       "      <th>0</th>\n",
       "      <td>0.45</td>\n",
       "      <td>5</td>\n",
       "      <td>10888.89</td>\n",
       "    </tr>\n",
       "    <tr>\n",
       "      <th>1</th>\n",
       "      <td>0.91</td>\n",
       "      <td>10</td>\n",
       "      <td>10769.23</td>\n",
       "    </tr>\n",
       "    <tr>\n",
       "      <th>2</th>\n",
       "      <td>1.41</td>\n",
       "      <td>15</td>\n",
       "      <td>10425.53</td>\n",
       "    </tr>\n",
       "    <tr>\n",
       "      <th>3</th>\n",
       "      <td>1.87</td>\n",
       "      <td>20</td>\n",
       "      <td>10481.28</td>\n",
       "    </tr>\n",
       "    <tr>\n",
       "      <th>4</th>\n",
       "      <td>2.36</td>\n",
       "      <td>25</td>\n",
       "      <td>10381.36</td>\n",
       "    </tr>\n",
       "  </tbody>\n",
       "</table>\n",
       "</div>"
      ],
      "text/plain": [
       "   DeltaY  Massa  Constante mola\n",
       "0    0.45      5        10888.89\n",
       "1    0.91     10        10769.23\n",
       "2    1.41     15        10425.53\n",
       "3    1.87     20        10481.28\n",
       "4    2.36     25        10381.36"
      ]
     },
     "execution_count": 5,
     "metadata": {},
     "output_type": "execute_result"
    }
   ],
   "source": [
    "# Função lambda para calcular a constante K\n",
    "k = lambda massa,y : round(massa*980/y,2)\n",
    "\n",
    "#  Criando uma variavel para salvar os valores da função k utilizando as colunas como parametros\n",
    "cte_mola = k(dados_mec[\"Massa\"], dados_mec[\"DeltaY\"])\n",
    "cte_mola\n",
    "\n",
    "# Criando uma nova coluna no dataframe com os valores das constantes k\n",
    "dados_mec[\"Constante mola\"] = cte_mola\n",
    "dados_mec"
   ]
  },
  {
   "cell_type": "code",
   "execution_count": 6,
   "metadata": {},
   "outputs": [
    {
     "name": "stdout",
     "output_type": "stream",
     "text": [
      "A média das contantes k:  10589.258\n"
     ]
    }
   ],
   "source": [
    "# Calculando a média de K\n",
    "k_media = dados_mec[\"Constante mola\"].mean()\n",
    "print(\"A média das contantes k: \", k_media)"
   ]
  },
  {
   "attachments": {},
   "cell_type": "markdown",
   "metadata": {},
   "source": [
    "**Criando a fórmula para calcular a variancia**"
   ]
  },
  {
   "cell_type": "code",
   "execution_count": 10,
   "metadata": {},
   "outputs": [
    {
     "name": "stdout",
     "output_type": "stream",
     "text": [
      "Variancia:  50964.24\n",
      "Erro da média:  225.75\n"
     ]
    }
   ],
   "source": [
    "# Função para calcular a variancia\n",
    "var = lambda cte_mola, k_media:  round(np.sum((cte_mola - k_media)**2)/(len(cte_mola)-1) ,2)\n",
    "\n",
    "# Extraindo os dados da coluna das constantes\n",
    "variancia = var(dados_mec[\"Constante mola\"],k_media)\n",
    "print(\"Variancia: \", variancia)\n",
    "\n",
    "# Calculando o erro da média\n",
    "erro_media = round(np.sqrt(variancia),2)\n",
    "print(\"Erro da média: \", erro_media)\n"
   ]
  },
  {
   "attachments": {},
   "cell_type": "markdown",
   "metadata": {},
   "source": [
    "**Calculando os valores para os periodo**"
   ]
  },
  {
   "cell_type": "code",
   "execution_count": 11,
   "metadata": {},
   "outputs": [
    {
     "name": "stdout",
     "output_type": "stream",
     "text": [
      "Valores periodos [27.44, 19.88, 19.27]\n",
      "Media dos periodos 22.197\n"
     ]
    }
   ],
   "source": [
    "# Criando função para calcular os periodos\n",
    "W = lambda T: np.round(2*np.pi/T,2)\n",
    "\n",
    "Valores_T = [0.229,0.316,0.326]\n",
    "\n",
    "# Calculando os periodos\n",
    "periodos = list(map(W,Valores_T))\n",
    "print(\"Valores periodos: \", periodos)\n",
    "\n",
    "# Calculando a media dos periodos\n",
    "media_periodos = np.round(np.mean(periodos),3)\n",
    "print(\"Media dos periodos: \",media_periodos)\n"
   ]
  }
 ],
 "metadata": {
  "kernelspec": {
   "display_name": "Python 3",
   "language": "python",
   "name": "python3"
  },
  "language_info": {
   "codemirror_mode": {
    "name": "ipython",
    "version": 3
   },
   "file_extension": ".py",
   "mimetype": "text/x-python",
   "name": "python",
   "nbconvert_exporter": "python",
   "pygments_lexer": "ipython3",
   "version": "3.9.5"
  },
  "orig_nbformat": 4
 },
 "nbformat": 4,
 "nbformat_minor": 2
}
